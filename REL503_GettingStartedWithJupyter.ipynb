{
  "nbformat": 4,
  "nbformat_minor": 0,
  "metadata": {
    "colab": {
      "name": "REL503-GettingStartedWithJupyter.ipynb",
      "provenance": [],
      "authorship_tag": "ABX9TyP0z1BzQcAPksQ8GoJoJuLX",
      "include_colab_link": true
    },
    "kernelspec": {
      "name": "python3",
      "display_name": "Python 3"
    },
    "language_info": {
      "name": "python"
    }
  },
  "cells": [
    {
      "cell_type": "markdown",
      "metadata": {
        "id": "view-in-github",
        "colab_type": "text"
      },
      "source": [
        "<a href=\"https://colab.research.google.com/github/jerielizabeth/Workshops-DataVisualization/blob/main/REL503_GettingStartedWithJupyter.ipynb\" target=\"_parent\"><img src=\"https://colab.research.google.com/assets/colab-badge.svg\" alt=\"Open In Colab\"/></a>"
      ]
    },
    {
      "cell_type": "markdown",
      "metadata": {
        "id": "2eQT5jySFJXs"
      },
      "source": [
        "# Welcome to Jupyter Notebooks, Google-style.\n",
        "\n",
        "What is a Jupyter Notebook? A Jupyter Notebook is a type of document that supports text (like this) and can also execute computer code. \n",
        "\n"
      ]
    },
    {
      "cell_type": "markdown",
      "metadata": {
        "id": "W1elV5aT7G6q"
      },
      "source": [
        "## Working with Cells\n",
        "\n",
        "Notebooks are organized into units called \"cells.\" A cell can contain text (like this one) or can contain code written in a programming language. Which language you use is determined by the interpreter or kernel the notebook is set up to work with. In Google Colaboratory, the kernel used is Python.\n",
        "\n",
        "You can run a Jupyter notebook on your own computer. That is beyond what we are going to tackle, but if you are interesting in learning, there is a great tutorial on the Programming Historian that will help you get started - https://programminghistorian.org/en/lessons/jupyter-notebooks."
      ]
    },
    {
      "cell_type": "code",
      "metadata": {
        "id": "kibp_p7G28F-"
      },
      "source": [
        "# This is a comment - any line that starts with a \"#\" is ignored by the Python kernel.\n",
        "# We use comments to leave notes for future users (self included) about what the code is doing.\n",
        "# This is a code cell. "
      ],
      "execution_count": null,
      "outputs": []
    },
    {
      "cell_type": "markdown",
      "metadata": {
        "id": "oye8XkeN3YGZ"
      },
      "source": [
        "You can stay inside of one cell as long as you want with either your text or your code, but a good rule of thumb is to have one task or concept per cell. That will make things easier to read and to troubleshoot.\n",
        "\n",
        "Once you are done editing, you can activate the cell by clicking \"SHIFT + RETURN\". This will send the content of your cell to the kernel for interpreting (which means your text will format or your code will get executed). Additionally, Jupyter will automatically create a new cell below where you were working. This will be a \"code\" cell by default. "
      ]
    },
    {
      "cell_type": "code",
      "metadata": {
        "id": "Afbus3CrrA44"
      },
      "source": [
        "# Remove the pound sign on the next row  and activate the cell.\n",
        "# print(\"Hello World!\")"
      ],
      "execution_count": null,
      "outputs": []
    },
    {
      "cell_type": "code",
      "metadata": {
        "id": "yVlhce-g5zx4"
      },
      "source": [
        "# Code cell\n",
        "# Try experimenting in this cell."
      ],
      "execution_count": null,
      "outputs": []
    },
    {
      "cell_type": "markdown",
      "metadata": {
        "id": "SmWSIoJg57Th"
      },
      "source": [
        "To change a code cell to a text cell, click \"CONTROL M M\". (To change a text cell to a code cell, click \"CONTROL M Y\".) Use \"RETURN\" to start editing in a cell.\n",
        "\n",
        "You can also use the \"+ Code\" and \"+ Text\" buttons at the top of the notebook page."
      ]
    },
    {
      "cell_type": "markdown",
      "metadata": {
        "id": "gGS7JXHS4E7x"
      },
      "source": [
        "# Saving Colab Files to Your Drive"
      ]
    },
    {
      "cell_type": "markdown",
      "metadata": {
        "id": "6kj4f7yb4Nmb"
      },
      "source": [
        "Throughout this workshop, you will be accessing Colab files from Github and opening them in Google. \n",
        "\n",
        "In order to save your work, make sure you click the \"Copy to Drive\" button next to \"+ Code\" and \"+ Text\" at the top of the file."
      ]
    },
    {
      "cell_type": "markdown",
      "metadata": {
        "id": "KWMEj3O-6VaH"
      },
      "source": [
        "## Practice\n",
        "\n",
        "1. Save a copy of this notebook to Drive.\n",
        "\n",
        "2. Create a couple new cells, some as \"text\" cells and some as \"code\" cells with comments. Be sure to activate them.\n",
        "\n",
        "3. Click around in the menus and find something that you don't understand. Create a new text cell and describe what you found.\n",
        "\n",
        "4. Figure out how to delete one of your new cells."
      ]
    },
    {
      "cell_type": "code",
      "metadata": {
        "id": "TStgUpxkrsgW"
      },
      "source": [
        ""
      ],
      "execution_count": null,
      "outputs": []
    }
  ]
}